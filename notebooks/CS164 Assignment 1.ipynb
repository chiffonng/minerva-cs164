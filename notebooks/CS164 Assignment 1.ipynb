{
 "cells": [
  {
   "cell_type": "markdown",
   "id": "d5dfa890",
   "metadata": {},
   "source": [
    "# Part I\n",
    "\n",
    "## 1.1\n",
    "\n",
    "A symmetric matrix with real entries $A \\in \\mathbb{R}^{n\\times n}$ is positive definite if and only if for all non-zero vectors the following quadratic form is positive\n",
    "\n",
    "$$\n",
    "\\mathbf{x}^{\\top}A \\mathbf{x} > 0 \\; \\forall \\mathbf{x} \\neq 0\n",
    "$$\n",
    "\n",
    "This requires all eigenvalues of $A$ being positive. However, the **determinant** of the matrix (which is the product of all eigenvalues) being positive does **not** imply that all eigenvalues are positive. The determinant could be positive if two negative eigenvalues multiplied together result in a positive number, which would not satisfy the condition for positive definiteness.\n",
    "\n",
    "For example, $A$ is a $2\\times 2$ diagonal matrix that has one unique eigenvalue of -1 (diagonal entries) thus it is not positive definite. However, its determinant is 1\n",
    "\n",
    "$$\n",
    "A = \\begin{bmatrix*}-1 & 0  \\\\ 0 & -1\\end{bmatrix*}\n",
    "$$\n",
    "\n",
    "$B$ is a $3\\times 3$ diagonal matrix constructed by extending the previous example. It has three eigenvalues (1, -1, -1), two of which are not positive, thus $B$ is not positive definite. However, its determinant is 1\n",
    "\n",
    "$$\n",
    "B = \\begin{bmatrix*}1 & 0 & 0 \\\\ 0 & -1 & 0  \\\\ 0&  0 & -1\\end{bmatrix*}\n",
    "$$\n",
    "\n",
    "Verify with Sage Math:\n"
   ]
  },
  {
   "cell_type": "code",
   "execution_count": 1,
   "id": "2d9a7f7e",
   "metadata": {},
   "outputs": [
    {
     "name": "stdout",
     "output_type": "stream",
     "text": [
      "det(A)= 1, positive definite: False\n",
      "det(B)= 1, positive definite: False\n"
     ]
    }
   ],
   "source": [
    "A = Matrix(ZZ, [[-1, 0], [0, -1]])\n",
    "\n",
    "B = Matrix(ZZ, [[1, 0, 0], [0, -1, 0], [0, 0, -1]])\n",
    "\n",
    "print(f\"det(A)= {A.det()}, positive definite: {A.is_positive_definite()}\")\n",
    "print(f\"det(B)= {B.det()}, positive definite: {B.is_positive_definite()}\")"
   ]
  },
  {
   "cell_type": "markdown",
   "id": "2a1663ef",
   "metadata": {},
   "source": [
    "## 1.2 Sylvester’s Criterion\n"
   ]
  },
  {
   "cell_type": "code",
   "execution_count": 2,
   "id": "48671673",
   "metadata": {},
   "outputs": [
    {
     "name": "stdout",
     "output_type": "stream",
     "text": [
      "Submatrix 1x1 \n",
      "[-1]\n",
      "has determinant: -1\n",
      "\n",
      "Submatrix 2x2 \n",
      "[ 1  0]\n",
      "[ 0 -1]\n",
      "has determinant: -1\n",
      "\n"
     ]
    },
    {
     "data": {
      "text/plain": [
       "False"
      ]
     },
     "execution_count": 2,
     "metadata": {},
     "output_type": "execute_result"
    }
   ],
   "source": [
    "def is_positive_definite(A: Matrix) -> bool:\n",
    "    \"\"\"\n",
    "    Apply Sylvester's Criterion to check if a matrix is positive definite.\n",
    "\n",
    "    Inputs:\n",
    "    - A: A symmetric matrix\n",
    "\n",
    "    Output:\n",
    "    - True if the matrix is positive definite, False otherwise\n",
    "    \"\"\"\n",
    "    # Ensure matrix is symmetric\n",
    "    if not A.is_symmetric():\n",
    "        print(f\"The matrix is not symmetric\\n{A}\")\n",
    "        return False\n",
    "\n",
    "    # Loop through submatrices\n",
    "    for k in range(1, A.nrows() + 1):\n",
    "        # Extract the top-left k x k submatrix\n",
    "        submatrix = A[:k, :k]\n",
    "        determinant = submatrix.det()\n",
    "\n",
    "        # If any determinant is non-positive, the matrix is not positive definite\n",
    "        if determinant <= 0:\n",
    "            print(f\"Submatrix {k}x{k} \\n{submatrix}\\nhas determinant: {determinant}\\n\")\n",
    "            return False\n",
    "    return True\n",
    "\n",
    "\n",
    "is_positive_definite(A)\n",
    "is_positive_definite(B)"
   ]
  },
  {
   "cell_type": "markdown",
   "id": "d4f8e125",
   "metadata": {},
   "source": [
    "## 1.3. Sylvester’s Criterion only applies to symmetric matrices\n",
    "\n",
    "### 1.3.1.\n",
    "\n",
    "_Approach 1_: Sylvester’s criterion only applies to symmetric matrices. The code for Sylvester's criterion will output that the matrix $Q$ is not positive definite (because it is not symmetric)\n"
   ]
  },
  {
   "cell_type": "code",
   "execution_count": 3,
   "id": "1f23e27c",
   "metadata": {},
   "outputs": [
    {
     "name": "stdout",
     "output_type": "stream",
     "text": [
      "The following matrix is not symmetric\n",
      "[ 1  0]\n",
      "[-4  1]\n"
     ]
    },
    {
     "data": {
      "text/plain": [
       "False"
      ]
     },
     "execution_count": 3,
     "metadata": {},
     "output_type": "execute_result"
    }
   ],
   "source": [
    "Q = Matrix(ZZ, [[1, 0], [-4, 1]])\n",
    "is_positive_definite(Q)"
   ]
  },
  {
   "cell_type": "markdown",
   "id": "ec674cda",
   "metadata": {},
   "source": [
    "_Approach 2_: By definition, $Q$ is positive definite if and only if for all non-zero vectors the quadratic form $\\mathbf{x}^{\\top}Q \\mathbf{x}$ is positive. However, there exists a non-zero vector that invalidates this condition: $\\mathbf{x}^{\\top} = [1, 1]$\n"
   ]
  },
  {
   "cell_type": "code",
   "execution_count": 4,
   "id": "15712af5",
   "metadata": {},
   "outputs": [
    {
     "data": {
      "text/plain": [
       "-2"
      ]
     },
     "execution_count": 4,
     "metadata": {},
     "output_type": "execute_result"
    }
   ],
   "source": [
    "Q = Matrix(ZZ, [[1, 0], [-4, 1]])\n",
    "x = vector([1, 1])\n",
    "x * Q * x  # -2"
   ]
  },
  {
   "cell_type": "markdown",
   "id": "4744523a",
   "metadata": {},
   "source": [
    "### 1.3.2\n",
    "\n",
    "We can obtain the symmetric $Q_0$ by symmetrizing $Q$: averaging it with its transpose (applicable for $2\\times 2$ matrix)\n",
    "\n",
    "$$Q_0 = \\frac{1}{2}(Q + Q^{\\top)}= \\begin{bmatrix*}1 & -2 \\\\ -2 & 1 \\end{bmatrix*}$$\n"
   ]
  },
  {
   "cell_type": "code",
   "execution_count": 5,
   "id": "2fc6b363",
   "metadata": {},
   "outputs": [
    {
     "name": "stdout",
     "output_type": "stream",
     "text": [
      "[ 1 -2]\n",
      "[-2  1]\n",
      "Is Q_0 symmetric? True\n"
     ]
    }
   ],
   "source": [
    "Q0 = 1 / 2 * (Q + Q.T)\n",
    "\n",
    "print(Q0)\n",
    "print(f\"Is Q_0 symmetric? {Q0 == Q0.T}\")"
   ]
  },
  {
   "cell_type": "markdown",
   "id": "b0226582",
   "metadata": {},
   "source": [
    "Since the quadratic form is negative $\\mathbf{x}^{\\top}Q \\mathbf{x} = \\mathbf{x}^{\\top}Q_{0} \\mathbf{x} < 0$, $Q_{0}$ is not positive definite, although it is symmetric. $\\mathbf{x}^{\\top} = [1, 1]$ still renders the quadratic form negative $\\mathbf{x}^{\\top}Q_{0} \\mathbf{x} < 0$\n"
   ]
  },
  {
   "cell_type": "code",
   "execution_count": 6,
   "id": "727b991e",
   "metadata": {},
   "outputs": [
    {
     "data": {
      "text/plain": [
       "-2"
      ]
     },
     "execution_count": 6,
     "metadata": {},
     "output_type": "execute_result"
    }
   ],
   "source": [
    "x * Q0 * x  # -2"
   ]
  },
  {
   "cell_type": "markdown",
   "id": "b1827495",
   "metadata": {},
   "source": [
    "Using Sylvester’s criterion, we verify that one leading principle minor is negative $\\det(Q_{0})=-3$, therefore $Q_{0}$ is not positive definite.\n"
   ]
  },
  {
   "cell_type": "code",
   "execution_count": 7,
   "id": "f2c67180",
   "metadata": {},
   "outputs": [
    {
     "name": "stdout",
     "output_type": "stream",
     "text": [
      "Submatrix 2x2 \n",
      "[ 1 -2]\n",
      "[-2  1]\n",
      "has determinant: -3\n",
      "\n"
     ]
    },
    {
     "data": {
      "text/plain": [
       "False"
      ]
     },
     "execution_count": 7,
     "metadata": {},
     "output_type": "execute_result"
    }
   ],
   "source": [
    "is_positive_definite(Q0)"
   ]
  },
  {
   "cell_type": "markdown",
   "id": "4e585d3c",
   "metadata": {},
   "source": [
    "## 1.4\n",
    "\n",
    "All leading principle minors of $A$ are non-negative, as shown below\n"
   ]
  },
  {
   "cell_type": "code",
   "execution_count": 8,
   "id": "956382d1",
   "metadata": {},
   "outputs": [
    {
     "name": "stdout",
     "output_type": "stream",
     "text": [
      "Leading principal minor 1x1: 2\n",
      "Leading principal minor 2x2: 0\n",
      "Leading principal minor 3x3: 0\n"
     ]
    },
    {
     "data": {
      "text/plain": [
       "[2, 0, 0]"
      ]
     },
     "execution_count": 8,
     "metadata": {},
     "output_type": "execute_result"
    }
   ],
   "source": [
    "from typing import List\n",
    "from sage.matrix.constructor import Matrix\n",
    "\n",
    "A = Matrix([[2, 2, 2], [2, 2, 2], [2, 2, 0]])\n",
    "\n",
    "\n",
    "def leading_principal_minors(A: Matrix) -> List[int] | None:\n",
    "    \"\"\"\n",
    "    Calculate and output the leading principal minors (determinants of submatrices) of a matrix, starting from the smallest submatrix (1x1) to the full matrix.\n",
    "\n",
    "    Inputs:\n",
    "    - A: A symmetric matrix\n",
    "\n",
    "    Output:\n",
    "    - All leading principal minors\n",
    "    \"\"\"\n",
    "    # Ensure matrix is symmetric\n",
    "    if not A.is_symmetric():\n",
    "        print(f\"The matrix is not symmetric\\n{A}\")\n",
    "        return\n",
    "\n",
    "    n = A.nrows()\n",
    "    lpm = []\n",
    "\n",
    "    # Loop through submatrices and compute determinants of leading minors\n",
    "    for k in range(1, n + 1):\n",
    "        # Extract the top-left k x k submatrix\n",
    "        submatrix = A[:k, :k]\n",
    "        determinant = submatrix.det()\n",
    "        print(f\"Leading principal minor {k}x{k}: {determinant}\")\n",
    "        lpm.append(determinant)\n",
    "\n",
    "    return lpm\n",
    "\n",
    "\n",
    "leading_principal_minors(A)"
   ]
  },
  {
   "cell_type": "markdown",
   "id": "c6b604da",
   "metadata": {},
   "source": [
    "However, $A$ is not positive semidefinite because there's a non-zero vector that makes the quadratic form negative $\\mathbf{x}^{\\top}A \\mathbf{x} <0$: $\\mathbf{x}^{\\top} = \\begin{bmatrix*}-1 & 2 & -1\\end{bmatrix*}$\n"
   ]
  },
  {
   "cell_type": "code",
   "execution_count": 9,
   "id": "b290920b",
   "metadata": {},
   "outputs": [
    {
     "data": {
      "text/plain": [
       "-2"
      ]
     },
     "execution_count": 9,
     "metadata": {},
     "output_type": "execute_result"
    }
   ],
   "source": [
    "A = Matrix([[2, 2, 2], [2, 2, 2], [2, 2, 0]])\n",
    "x = vector(QQ, [-1, 2, -1])\n",
    "x * A * x  # -2"
   ]
  },
  {
   "cell_type": "markdown",
   "id": "85148b54",
   "metadata": {},
   "source": [
    "It shows that Sylvester’s Criterion should only be used to check positive definiteness, not positive semi-definiteness.\n",
    "\n",
    "# Part II Block Multiplication and Schur Complements\n",
    "\n",
    "## 2.1 Block multiplication\n",
    "\n",
    "The following code cell computes $M^{2}$ using matrix multiplication and block multiplication, showing that both approaches arrive at the same result\n"
   ]
  },
  {
   "cell_type": "code",
   "execution_count": 14,
   "id": "cd3a570e",
   "metadata": {},
   "outputs": [
    {
     "name": "stdout",
     "output_type": "stream",
     "text": [
      "M^2 normal matrix multiplication\n",
      "[ 33  39  47   5]\n",
      "[ 70  81  96  10]\n",
      "[109 127 152  16]\n",
      "[ 18  21  24   2]\n",
      "\n",
      "M^2 block multiplication\n",
      "\n",
      "[ 33  39  47|  5]\n",
      "[ 70  81  96| 10]\n",
      "[109 127 152| 16]\n",
      "[-----------+---]\n",
      "[ 18  21  24|  2]\n",
      "\n",
      "Are they equal? True\n"
     ]
    }
   ],
   "source": [
    "A = Matrix([[2, 2, 3], [4, 5, 6], [7, 8, 9]])\n",
    "B = Matrix([[1], [0], [1]])\n",
    "C = Matrix([[0, 1, 2]])\n",
    "D = Matrix([[0]])\n",
    "\n",
    "M_block = block_matrix([[A, B], [C, D]])\n",
    "\n",
    "M = Matrix([[2, 2, 3, 1], [4, 5, 6, 0], [7, 8, 9, 1], [0, 1, 2, 0]])\n",
    "\n",
    "M_blocked_squared = block_matrix(\n",
    "    [[A ^ 2 + B * C, A * B + B * D], [C * A + D * C, C * B + D ^ 2]]\n",
    ")\n",
    "print(\"M^2 normal matrix multiplication\")\n",
    "print(M ^ 2)\n",
    "print(\"\\nM^2 block multiplication\")\n",
    "print(M_blocked_squared)\n",
    "print(\"\\nAre they equal?\", M ^ 2 == M_block ^ 2 == M_blocked_squared)"
   ]
  },
  {
   "cell_type": "markdown",
   "id": "c71ad992",
   "metadata": {},
   "source": [
    "## 2.2. Solving systems using blocks\n",
    "\n",
    "### 2.2.1. Solve for $x_{1}$\n",
    "\n",
    "Apply block multiplication to the left-hand side, which result in a $2\\times 1$ matrix\n",
    "\n",
    "$$\n",
    "\\begin{bmatrix*} A_{11} x_{1} + A_{12}x_{2} \\\\ A_{21}x_{1}+ A_{22}x_{2} \\end{bmatrix*} = \\begin{bmatrix*}b_{1} \\\\ b_{2}\\end{bmatrix*}\n",
    "$$\n",
    "\n",
    "The first row is a linear equation\n",
    "\n",
    "$$\\begin{equation*}A_{11}x_{1}+A_{12}x_{2} =b_{1} \\end{equation*}$$\n",
    "\n",
    "Rearrange this equation to solve for $x_{1}$\n",
    "\n",
    "$$\\begin{equation*} x_{1} = A_{11}^{-1}\\left(b_{1} - A_{12}x_{2}\\right) \\end{equation*}$$\n",
    "\n",
    "where $A_{11}^{-1}$ is the inverse of $A_{11}$\n",
    "\n",
    "### 2.2.2. Derive identity\n",
    "\n",
    "From the block matrix equation, we also derive the second row as this linear equation\n",
    "\n",
    "$$\\begin{equation*}A_{21}x_{1}+A_{22}x_{2} =b_{2} \\end{equation*}$$\n",
    "\n",
    "Substitute the expression for $x_{1}$ that we found in 2.2.1.\n",
    "\n",
    "$$\\begin{equation*}A_{21} \\left(A_{11}^{-1}\\left(b_{1} - A_{12}x_{2}\\right) \\right)+A_{22}x_{2} =b_{2} \\end{equation*}$$\n",
    "\n",
    "Distribute $A_{21}$ and $A_{11}^{-1}$ to both terms inside the inner parentheses\n",
    "\n",
    "$$\n",
    "\\begin{equation*}\n",
    "A_{21} A_{11}^{-1} b_{1} - A_{21}A_{11}^{-1} A_{12}x_{2} + A_{22}x_{2} = b_{2} \\end{equation*}\n",
    "$$\n",
    "\n",
    "Group the terms with $x_2$ on the left-hand side\n",
    "\n",
    "$$\n",
    "\\begin{equation*}\n",
    "(A_{22} - A_{11}^{-1}A_{12}A_{21} )x_{2} = b_{2}  - A_{11}^{-1}A_{21}b_{1}\n",
    "\\end{equation*}\n",
    "$$\n",
    "\n",
    "which is the given identity.\n",
    "\n",
    "### 2.2.3\n",
    "\n",
    "The identity below gives the formula for $x_{2}$\n",
    "\n",
    "$$\n",
    "\\begin{equation*}\n",
    "x_{2} = (A_{22} - A_{11}^{-1}A_{12}A_{21} )^{-1}(b_{2} - A_{11}^{-1}A_{21}b_{1})\n",
    "\\end{equation*}\n",
    "$$\n",
    "\n",
    "We will use the fact that $A$ is invertible so $S=A_{22} - A_{11}^{-1}A_{12}A_{21}$ is invertible in the code.\n",
    "\n",
    "We also have the formula for $x_{1}$\n",
    "\n",
    "$$\\begin{equation*} x_{1} = A_{11}^{-1}\\left(b_{1} - A_{12}x_{2}\\right) \\end{equation*}$$\n",
    "\n",
    "Use both formulas in the code\n"
   ]
  },
  {
   "cell_type": "code",
   "execution_count": 11,
   "id": "c87b3c19",
   "metadata": {},
   "outputs": [
    {
     "name": "stdout",
     "output_type": "stream",
     "text": [
      "Solution using block matrix method (x1, x2, x)\n",
      "((1, 0, -1), (1), (1, 0, -1, 1))\n",
      "Solution using SageMath solve_right:\n",
      "(1, 0, -1, 1)\n"
     ]
    }
   ],
   "source": [
    "from itertools import chain\n",
    "\n",
    "\n",
    "def solve_with_blocks(\n",
    "    A11: Matrix, A12: Matrix, A21: Matrix, A22: Matrix, b1: vector, b2: vector\n",
    ") -> vector | None:\n",
    "    \"\"\"\n",
    "    Solve the system Ax = b using the block matrix approach.\n",
    "\n",
    "    Inputs:\n",
    "    - A11: Top-left block of A\n",
    "    - A12: Top-right block of A\n",
    "    - A21: Bottom-left block of A\n",
    "    - A22: Bottom-right block of A\n",
    "    - b1: First part of the vector b\n",
    "    - b2: Second part of the vector b\n",
    "\n",
    "    Outputs:\n",
    "    - x: Solution vector (x1 and x2 combined)\n",
    "    \"\"\"\n",
    "    if not A11.is_invertible():\n",
    "        return\n",
    "    A11_inv = A11.inverse()\n",
    "\n",
    "    # Use formulas\n",
    "    x2 = (A22 - A21 * A11_inv * A12).inverse() * (b2 - A21 * A11_inv * b1)\n",
    "    x1 = A11_inv * (b1 - A12 * x2)\n",
    "\n",
    "    # Combine x1 and x2 into the solution vector\n",
    "    x = vector(chain(x1, x2))\n",
    "\n",
    "    return x1, x2, x\n",
    "\n",
    "\n",
    "# Define matrices A11, A12, A21, A22\n",
    "A11 = Matrix(ZZ, [[1, -2, 1], [0, 1, -1], [0, -1, 2]])\n",
    "A12 = Matrix(ZZ, [[1], [0], [1]])\n",
    "A21 = Matrix(ZZ, [[0, 1, 1]])\n",
    "A22 = Matrix(ZZ, [[0]])\n",
    "A = block_matrix([[A11, A12], [A21, A22]])\n",
    "\n",
    "# Define the vector b = [b1; b2]\n",
    "b1 = vector(ZZ, [1, 1, -1])\n",
    "b2 = vector(ZZ, [-1])\n",
    "b = vector(chain(b1, b2))\n",
    "\n",
    "# Solve using two approaches\n",
    "x_block = solve_with_blocks(A11, A12, A21, A22, b1, b2)\n",
    "x_sage = A.solve_right(b)\n",
    "\n",
    "print(\"Solution using block matrix method (x1, x2, x)\")\n",
    "print(x_block)\n",
    "print(\"Solution using SageMath solve_right:\")\n",
    "print(x_sage)"
   ]
  },
  {
   "cell_type": "markdown",
   "id": "c78213ba",
   "metadata": {},
   "source": [
    "Both formulas give the same result as the direct solution of the system $Ax=b$\n"
   ]
  },
  {
   "cell_type": "markdown",
   "id": "af785b0d",
   "metadata": {},
   "source": [
    "## 3. Finding minima\n",
    "\n",
    "Expand the quadratic form, by multiplying matrices from right to left\n",
    "\n",
    "$$\n",
    "\\begin{align*}\n",
    "&\\begin{bmatrix}\n",
    "\\mathbf{u} \\\\\n",
    "\\mathbf{v}\n",
    "\\end{bmatrix}^{\\top}\n",
    "\\begin{bmatrix}\n",
    "A & B \\\\\n",
    "B^{T} & C\n",
    "\\end{bmatrix}\n",
    "\\begin{bmatrix}\n",
    "\\mathbf{u} \\\\\n",
    "\\mathbf{v}\n",
    "\\end{bmatrix}\\\\\n",
    "= & \\begin{bmatrix}\n",
    "\\mathbf{u} &\n",
    "\\mathbf{v}\n",
    "\\end{bmatrix}\\begin{bmatrix*}A \\mathbf{u} + B \\mathbf{v}\\\\ B^{\\top}\\mathbf{u} + C \\mathbf{v}\n",
    "\\end{bmatrix*}\\\\\n",
    "= & \\mathbf{u}^{\\top} A \\mathbf{u} + \\mathbf{u}^{\\top} B \\mathbf{v} + \\mathbf{v}^{\\top} B^{\\top} \\mathbf{u} + \\mathbf{v}^\\top C \\mathbf{v}\n",
    "\\end{align*}\n",
    "$$\n",
    "\n",
    "Using properties of transpose $(AB)^{T}=B^{T}A^{T}$, we obtain $\\mathbf{v}^\\top B^\\top \\mathbf{u} = (\\mathbf{u}^\\top B \\mathbf{v})^\\top$. Since $\\mathbf{u}^\\top B \\mathbf{v}$ results in a scalar, the transpose of its transpose is the scalar itself. The expression simplifies to:\n",
    "\n",
    "$$\n",
    "f(\\mathbf{u}, \\mathbf{v}) = \\mathbf{u}^\\top A \\mathbf{u} + 2 \\mathbf{u}^\\top B \\mathbf{v} + \\mathbf{v}^\\top C \\mathbf{v}\n",
    "$$\n",
    "\n",
    "where each term of this expression is a scalar and quadratic form.\n",
    "\n",
    "To find the minimum of this quadratic form with respect to $\\mathbf{u}$, we differentiate $f(\\mathbf{u})$ w.r.t $\\mathbf{u}$ and set it equal to zero. Knowing that the derivative of $\\mathbf{x}^{T} A \\mathbf{x}$ is $2A\\mathbf{x}$ when $A$ is symmetric, then the derivative w.r.t $\\mathbf{u}$ is\n",
    "\n",
    "$$\n",
    "\\frac{\\partial f}{\\partial \\mathbf{u}} = 2 A \\mathbf{u} + 2 B \\mathbf{v} = 0\n",
    "$$\n",
    "\n",
    "Divides both sides by 2 and rearrange the terms:\n",
    "\n",
    "$$\n",
    "A \\mathbf{u} = -B \\mathbf{v}\n",
    "$$\n",
    "\n",
    "Since $A$ is positive definite (and thus invertible), we can solve for $\\mathbf{u}_{0}$, the local minimum.\n",
    "\n",
    "$$\n",
    "\\mathbf{u}_{0} = -A^{-1} B \\mathbf{v}\n",
    "$$\n",
    "\n",
    "To obtain the function value at this minimum, we substitute $\\mathbf{u}_{0} = -A^{-1} B \\mathbf{v}$ back into the quadratic form:\n",
    "\n",
    "$$\n",
    "f(\\mathbf{u}_{0}, \\mathbf{v}) = (-A^{-1} B \\mathbf{v})^\\top A (-A^{-1} B \\mathbf{v}) + 2 (-A^{-1} B \\mathbf{v})^\\top B \\mathbf{v} + \\mathbf{v}^\\top C \\mathbf{v}\n",
    "$$\n",
    "\n",
    "Simplifying each term of the right-hand side\n",
    "\n",
    "1. The first term: $g(\\mathbf{v})=(-A^{-1} B \\mathbf{v})^{\\top} A (-A^{-1} B \\mathbf{v})$\n",
    "   1. Cancel double negatives $g(\\mathbf{v})=(A^{-1} B \\mathbf{v})^{\\top} A (A^{-1} B \\mathbf{v})$\n",
    "   2. Expand the transpose of a product $(A^{-1} B \\mathbf{v})^{\\top} = v^{\\top}B^{\\top} (A^{-1})^{\\top}$\n",
    "   3. The transpose of an inverse equals the inverse of the transpose $\\left(A^{-1}\\right)^{\\top} = \\left(A^{\\top}\\right)^{-1}$ . Since A is symmetric, $A=A^{\\top}$. Thus $\\left(A^{-1}\\right)^{\\top} = A^{-1}$\n",
    "   4. Expand the parentheses of $g$: $g(\\mathbf{v})= \\mathbf{v}^{\\top B^{\\top}}A^{-1} A A^{-1} B \\mathbf{v}$\n",
    "   5. $A A^{\\top}=I$, so $g$ simplifies to $$g(\\mathbf{v})= \\mathbf{v}^\\top B^\\top A^{-1} B \\mathbf{v}$$\n",
    "2. The second term: $$2 (-A^{-1} B \\mathbf{v})^\\top B \\mathbf{v} = -2 \\mathbf{v}^\\top B^\\top A^{-1} B \\mathbf{v}$$\n",
    "3. The third term remains:\n",
    "\n",
    "$$\n",
    "\\mathbf{v}^\\top C \\mathbf{v}\n",
    "$$\n",
    "\n",
    "Thus, the block quadratic form becomes:\n",
    "\n",
    "$$\n",
    "f(\\mathbf{u_{0}}, \\mathbf{v}) = \\mathbf{v}^\\top B^\\top A^{-1} B \\mathbf{v} - 2 \\mathbf{v}^\\top B^\\top A^{-1} B \\mathbf{v} + \\mathbf{v}^\\top C \\mathbf{v}\n",
    "$$\n",
    "\n",
    "Combine the first two terms:\n",
    "\n",
    "$$\n",
    "f(\\mathbf{u}_{0}, \\mathbf{v}) = -\\mathbf{v}^\\top B^\\top A^{-1} B \\mathbf{v} + \\mathbf{v}^\\top C \\mathbf{v}\n",
    "$$\n",
    "\n",
    "Thus, the minimum value of the block quadratic form is:\n",
    "\n",
    "$$\n",
    "f(\\mathbf{u}_{0}, \\mathbf{v}) = \\mathbf{v}^\\top (C - B^\\top A^{-1} B) \\mathbf{v}\n",
    "= \\mathbf{v}^{\\top}S \\mathbf{v}\n",
    "$$\n",
    "\n",
    "where $S=C - B^\\top A^{-1} B$ is the Schur complement of $A$ in the block matrix.\n",
    "\n",
    "## 4 Theorem\n",
    "\n",
    "### 4.1.\n",
    "\n",
    "Quick notes on how these matrices are constructed\n",
    "\n",
    "- A symmetric matrix is positive definite when all eigenvalues are positive. For simplicity, I chose to construct all $X$ as a diagonal matrix with all diagonal entries being positive (since these are eigenvalues of diagonal matrix). Then $X, A, C$ are guaranteed to be positive definite.\n",
    "- Since $B$ doesn't have specific requirement, I chose the zero matrix. Thus Schur complement of $A$ in $X$ is also guaranteed to be positive definite\n",
    "\n",
    "$$S = C- B^{\\top}A^{-1}B = C$$\n"
   ]
  },
  {
   "cell_type": "code",
   "execution_count": 15,
   "id": "269d819f",
   "metadata": {},
   "outputs": [
    {
     "name": "stdout",
     "output_type": "stream",
     "text": [
      "X = [A B | B C]\n",
      "[2 0 0|0 0]\n",
      "[0 5 0|0 0]\n",
      "[0 0 4|0 0]\n",
      "[-----+---]\n",
      "[0 0 0|8 0]\n",
      "[0 0 0|0 5]\n",
      "X is positive definite? True\n",
      "A is positive definite? True\n",
      "S is positive definite? True\n"
     ]
    }
   ],
   "source": [
    "import random\n",
    "\n",
    "# Constructor code\n",
    "k, n = 3, 5\n",
    "pos_eigenvalues = [random.randint(1, 10) for _ in range(n)]\n",
    "A = diagonal_matrix(pos_eigenvalues[:k])\n",
    "B = zero_matrix(ZZ, k, n - k)\n",
    "C = diagonal_matrix(pos_eigenvalues[k - n :])\n",
    "\n",
    "# Schur Complement of A in X\n",
    "S = C - B.T * A.inverse() * B  # = C\n",
    "\n",
    "# Block matrix X\n",
    "X = block_matrix([[A, B], [B.T, C]])\n",
    "\n",
    "# Output\n",
    "print(f\"X = [A B | B C]\\n{X}\")\n",
    "print(\"X is positive definite?\", X.is_positive_definite())\n",
    "print(\"A is positive definite?\", A.is_positive_definite())\n",
    "print(\"S is positive definite?\", S.is_positive_definite())"
   ]
  },
  {
   "cell_type": "markdown",
   "id": "ddb235ba",
   "metadata": {},
   "source": [
    "A less special example\n"
   ]
  },
  {
   "cell_type": "code",
   "execution_count": 13,
   "id": "2712062c",
   "metadata": {},
   "outputs": [
    {
     "name": "stdout",
     "output_type": "stream",
     "text": [
      "X\n",
      "[4 1 0|1 2]\n",
      "[1 3 1|0 1]\n",
      "[0 1 2|1 0]\n",
      "[-----+---]\n",
      "[1 0 1|2 1]\n",
      "[2 1 0|1 3]\n",
      "X is positive definite? True\n",
      "A is positive definite? True\n",
      "S is positive definite? True\n"
     ]
    }
   ],
   "source": [
    "A = Matrix([[4, 1, 0], [1, 3, 1], [0, 1, 2]])\n",
    "B = Matrix([[1, 2], [0, 1], [1, 0]])\n",
    "C = Matrix([[2, 1], [1, 3]])\n",
    "\n",
    "# Schur Complement of A in X\n",
    "S = C - B.T * A.inverse() * B\n",
    "\n",
    "# Block matrix X\n",
    "X = block_matrix([[A, B], [B.T, C]])\n",
    "\n",
    "# Prints\n",
    "print(f\"X\\n{X}\")\n",
    "print(\"X is positive definite?\", X.is_positive_definite())\n",
    "print(\"A is positive definite?\", A.is_positive_definite())\n",
    "print(\"S is positive definite?\", S.is_positive_definite())"
   ]
  },
  {
   "cell_type": "markdown",
   "id": "edf031ac",
   "metadata": {},
   "source": [
    "## 4.2.\n",
    "\n",
    "This Schur trick allows us to check for positive definiteness of a large matrix $M$ by checking the positive definiteness of a smaller square matrix $A$ (upper left block) and the Schur complement of $A$ in $M$. This makes computations more efficient when solving optimization problems.\n",
    "\n",
    "It also allows us check for positive semi-definiteness of a large matrix $M$ by checking the positive semi-definiteness of the Schur complement of $A$ in $M$. I'm guessing this will be a nice tool later on.\n",
    "\n",
    "# Collaborators\n",
    "\n",
    "Woo and I cross checked results for Part II (Q3 and Q4) and cross checked results. However, all writings are produced independently.\n",
    "\n",
    "# AI Statement\n",
    "\n",
    "ChatGPT is used to generate preliminary code for all code produced in this assignment, in addition to reference from Sage Math documentation and Sage Math forum answers.\n"
   ]
  }
 ],
 "metadata": {
  "jupytext": {
   "cell_metadata_filter": "-all",
   "main_language": "python",
   "notebook_metadata_filter": "-all"
  },
  "kernelspec": {
   "display_name": "SageMath 10.0",
   "language": "sage",
   "name": "sagemath"
  },
  "language_info": {
   "codemirror_mode": {
    "name": "ipython",
    "version": 3
   },
   "file_extension": ".py",
   "mimetype": "text/x-python",
   "name": "python",
   "nbconvert_exporter": "python",
   "pygments_lexer": "ipython3",
   "version": "3.10.14"
  }
 },
 "nbformat": 4,
 "nbformat_minor": 5
}
